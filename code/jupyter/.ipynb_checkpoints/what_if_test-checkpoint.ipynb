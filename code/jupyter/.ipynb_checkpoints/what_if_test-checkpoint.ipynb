{
 "cells": [
  {
   "cell_type": "code",
   "execution_count": null,
   "metadata": {},
   "outputs": [],
   "source": [
    "import pandas as pd\n",
    "import matplotlib.pyplot as plt\n",
    "import numpy as np\n",
    "import sys\n",
    "import pickle\n",
    "import joblib\n",
    "import json\n",
    "import witwidget\n",
    "\n",
    "from collections import OrderedDict\n",
    "from sklearn.metrics import accuracy_score\n"
   ]
  },
  {
   "cell_type": "code",
   "execution_count": null,
   "metadata": {},
   "outputs": [],
   "source": [
    "model_file = open('data/RF19.sav', 'rb')\n",
    "model = pickle.load(model_file, encoding='latin1')\n",
    "\n",
    "scaler_file = open('data/scaler.sav', 'rb')\n",
    "scaler = pickle.load(scaler_file, encoding='latin1')"
   ]
  },
  {
   "cell_type": "code",
   "execution_count": null,
   "metadata": {},
   "outputs": [],
   "source": [
    "features = ['MAC', 'TAC', 'MinNOC_CSF1PO', 'MinNOC_D16S539', 'PercAF_D1S1656', 'AlleleCount_D3S1358', 'AlleleCount_D8S1179', 'MinNOC_Penta D', 'MinNOC_Penta E', 'SumAF_TH01', 'AlleleCount_TPOX', 'MinNOC_TPOX', 'stdHeight_vWA', 'stdAllele', 'MAC0', 'MAC5-6', 'peaksBelowRFU', 'MatchProbability', 'MinNOC']\n",
    "\n",
    "def gettingData(FEATURES):\n",
    "    with open(\"data/Features.txt\") as json_file:\n",
    "        FeaturesSet = json.load(json_file)\n",
    "    sampleNames = []\n",
    "    feature_labels = []\n",
    "    ordered_features = []\n",
    "    \n",
    "    for sample, items in FeaturesSet.items():\n",
    "        sampleList = []\n",
    "        feature_labels.append(int(items['NOC']))\n",
    "        sampleNames.append(sample)\n",
    "        for locus, item in sorted(items[\"Locus\"].items()):\n",
    "            for feature, featValue in sorted(item.items()):\n",
    "                if feature in FEATURES:\n",
    "                    sampleList.append(float(featValue))\n",
    "                else:\n",
    "                    continue\n",
    "        del items['Locus']\n",
    "        del items['NOC']\n",
    "        for feature in sorted(items):\n",
    "            if feature in FEATURES:\n",
    "                continue\n",
    "            else:\n",
    "                del items[feature]\n",
    "        ordered = OrderedDict(sorted(items.items()))\n",
    "        newSampleList = sampleList + list(ordered.values()) #locus\n",
    "        ordered_features.append(list(map(float, newSampleList))) # locus\n",
    "    featuresOrderedSet = np.array(ordered_features)\n",
    "    # normalise\n",
    "    featuresOrderedSet=scaler.transform(featuresOrderedSet)\n",
    "    return featuresOrderedSet, feature_labels, sampleNames"
   ]
  },
  {
   "cell_type": "code",
   "execution_count": null,
   "metadata": {},
   "outputs": [],
   "source": [
    "featuresOrderedSet, feature_labels, sampleNames = gettingData(features)\n",
    "\n",
    "print(len(feature_labels))\n",
    "print(feature_labels)\n",
    "\n",
    "test_data = pd.DataFrame.from_dict(featuresOrderedSet)\n",
    "test_data.columns = features\n",
    "test_data.index = sampleNames\n",
    "pd.set_option('display.max_columns', None)\n",
    "test_data\n",
    "\n",
    "test_labels = feature_labels"
   ]
  },
  {
   "cell_type": "code",
   "execution_count": null,
   "metadata": {},
   "outputs": [],
   "source": [
    "acc = accuracy_score(test_labels, model.predict(test_data))\n",
    "print(acc)\n",
    "print(model)"
   ]
  },
  {
   "cell_type": "code",
   "execution_count": null,
   "metadata": {},
   "outputs": [],
   "source": [
    "test_examples = np.hstack((test_data, test_labels))\n",
    "print(test_data)\n",
    "\n",
    "print(test_examples)\n",
    "\n",
    "#config_builder = (WitConfigBuilder(test_examples.tolist()).set_multi_class(True)"
   ]
  },
  {
   "cell_type": "code",
   "execution_count": null,
   "metadata": {},
   "outputs": [],
   "source": []
  }
 ],
 "metadata": {
  "kernelspec": {
   "display_name": "Python 3",
   "language": "python",
   "name": "python3"
  },
  "language_info": {
   "codemirror_mode": {
    "name": "ipython",
    "version": 3
   },
   "file_extension": ".py",
   "mimetype": "text/x-python",
   "name": "python",
   "nbconvert_exporter": "python",
   "pygments_lexer": "ipython3",
   "version": "3.7.4"
  }
 },
 "nbformat": 4,
 "nbformat_minor": 4
}
