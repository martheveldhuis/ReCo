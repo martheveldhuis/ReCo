{
 "metadata": {
  "language_info": {
   "codemirror_mode": {
    "name": "ipython",
    "version": 3
   },
   "file_extension": ".py",
   "mimetype": "text/x-python",
   "name": "python",
   "nbconvert_exporter": "python",
   "pygments_lexer": "ipython3",
   "version": "3.7.4-final"
  },
  "orig_nbformat": 2,
  "kernelspec": {
   "name": "python3",
   "display_name": "Python 3"
  }
 },
 "nbformat": 4,
 "nbformat_minor": 2,
 "cells": [
  {
   "source": [
    "Hi this is something.\n"
   ],
   "cell_type": "markdown",
   "metadata": {}
  },
  {
   "cell_type": "code",
   "execution_count": 1,
   "metadata": {},
   "outputs": [],
   "source": [
    "import numpy as np\n",
    "import pandas as pd\n",
    "import matplotlib.pyplot as plt"
   ]
  },
  {
   "cell_type": "code",
   "execution_count": 7,
   "metadata": {},
   "outputs": [],
   "source": [
    "data = pd.read_csv(r\"D:\\Documenten\\TUdelft\\thesis\\mep_veldhuis\\data\\02 Handmatig geanalyseerd\\3D2_New.csv\")"
   ]
  },
  {
   "cell_type": "code",
   "execution_count": 11,
   "metadata": {},
   "outputs": [
    {
     "output_type": "stream",
     "name": "stdout",
     "text": [
      "  Sample Name    Marker Allele 1 Allele 2  Allele 3  Allele 4  Allele 5  \\\n0       3D2.1      AMEL        X        Y       NaN       NaN       NaN   \n1       3D2.1   D3S1358       14       18      19.0       NaN       NaN   \n2       3D2.1   D1S1656       13       15      16.0      17.0       NaN   \n3       3D2.1    D2S441     11.3       13      14.0       NaN       NaN   \n4       3D2.1  D10S1248       13       14      15.0      16.0       NaN   \n\n   Allele 6  Allele 7  Allele 8  Height 1  Height 2  Height 3  Height 4  \\\n0       NaN       NaN       NaN      4731    4383.0       NaN       NaN   \n1       NaN       NaN       NaN      4132     720.0    3288.0       NaN   \n2       NaN       NaN       NaN      2488    3197.0     628.0     182.0   \n3       NaN       NaN       NaN      1797     562.0    1785.0       NaN   \n4       NaN       NaN       NaN       277    1982.0     692.0    1788.0   \n\n   Height 5  Height 6  Height 7  Height 8  \n0       NaN       NaN       NaN       NaN  \n1       NaN       NaN       NaN       NaN  \n2       NaN       NaN       NaN       NaN  \n3       NaN       NaN       NaN       NaN  \n4       NaN       NaN       NaN       NaN  \n(81, 18)\n"
     ]
    }
   ],
   "source": [
    "print(data.head())\n",
    "print(data.shape)"
   ]
  },
  {
   "cell_type": "code",
   "execution_count": null,
   "metadata": {},
   "outputs": [],
   "source": []
  },
  {
   "cell_type": "code",
   "execution_count": null,
   "metadata": {},
   "outputs": [],
   "source": []
  }
 ]
}